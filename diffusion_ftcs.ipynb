{
 "cells": [
  {
   "cell_type": "code",
   "id": "initial_id",
   "metadata": {
    "collapsed": true,
    "ExecuteTime": {
     "end_time": "2025-04-21T20:53:15.437945Z",
     "start_time": "2025-04-21T20:53:15.434010Z"
    }
   },
   "source": [
    "import numpy as np\n",
    "import matplotlib.pyplot as plt\n",
    "from pysindy import SINDy\n",
    "from pysindy.optimizers import STLSQ\n",
    "from pysindy.feature_library import PolynomialLibrary\n"
   ],
   "outputs": [],
   "execution_count": 63
  },
  {
   "metadata": {
    "ExecuteTime": {
     "end_time": "2025-04-21T20:53:15.450797Z",
     "start_time": "2025-04-21T20:53:15.445930Z"
    }
   },
   "cell_type": "code",
   "source": [
    "# Parameters\n",
    "nx, ny = 50, 50         # Grid size\n",
    "dx = dy = 1.0           # Spatial resolution\n",
    "D = 1.0                 # Diffusion coefficient\n",
    "dt = 0.1                # Time step\n",
    "T = 10                  # Total time steps\n",
    "steps = int(T / dt)     # Number of iterations\n",
    "\n",
    "# Initialize concentration grid\n",
    "u = np.zeros((steps, nx, ny))\n",
    "\n",
    "# Initial condition: Gaussian blob at the center\n",
    "x = np.arange(nx)\n",
    "y = np.arange(ny)\n",
    "X, Y = np.meshgrid(x, y)\n",
    "u0 = np.exp(-((X - nx/2)**2 + (Y - ny/2)**2) / 10.0)\n",
    "u[0] = u0\n"
   ],
   "id": "11886528323353b3",
   "outputs": [],
   "execution_count": 64
  },
  {
   "metadata": {
    "ExecuteTime": {
     "end_time": "2025-04-21T20:53:15.475421Z",
     "start_time": "2025-04-21T20:53:15.468254Z"
    }
   },
   "cell_type": "code",
   "source": [
    "# FTCS scheme to simulate diffusion\n",
    "for t in range(1, steps):\n",
    "    u_prev = u[t-1]\n",
    "    u_next = u_prev.copy()\n",
    "    u_next[1:-1, 1:-1] = (\n",
    "        u_prev[1:-1, 1:-1] +\n",
    "        D * dt / dx**2 * (\n",
    "            u_prev[2:, 1:-1] + u_prev[:-2, 1:-1] +\n",
    "            u_prev[1:-1, 2:] + u_prev[1:-1, :-2] -\n",
    "            4 * u_prev[1:-1, 1:-1])\n",
    "    )\n",
    "    u[t] = u_next"
   ],
   "id": "ebb9d37f75135004",
   "outputs": [],
   "execution_count": 65
  },
  {
   "metadata": {
    "ExecuteTime": {
     "end_time": "2025-04-21T20:53:15.560521Z",
     "start_time": "2025-04-21T20:53:15.489928Z"
    }
   },
   "cell_type": "code",
   "source": [
    "# Visualize a few snapshots\n",
    "plt.figure(figsize=(12, 3))\n",
    "for i, t_idx in enumerate([0, int(steps/3), int(2*steps/3), steps-1]):\n",
    "    plt.subplot(1, 4, i+1)\n",
    "    plt.imshow(u[t_idx], cmap='viridis')\n",
    "    plt.title(f\"t = {t_idx * dt:.1f}\")\n",
    "    plt.axis('off')\n",
    "plt.tight_layout()\n",
    "plt.show()"
   ],
   "id": "13ce8cff88cadc1f",
   "outputs": [
    {
     "data": {
      "text/plain": [
       "<Figure size 1200x300 with 4 Axes>"
      ],
      "image/png": "[encoded data removed]"
     },
     "metadata": {},
     "output_type": "display_data"
    }
   ],
   "execution_count": 66
  },
  {
   "metadata": {
    "ExecuteTime": {
     "end_time": "2025-04-21T20:53:15.575628Z",
     "start_time": "2025-04-21T20:53:15.572098Z"
    }
   },
   "cell_type": "code",
   "source": "print(\"u shape:\", u.shape)",
   "id": "11b7f0f8871c8354",
   "outputs": [
    {
     "name": "stdout",
     "output_type": "stream",
     "text": [
      "u shape: (100, 50, 50)\n"
     ]
    }
   ],
   "execution_count": 67
  },
  {
   "metadata": {
    "ExecuteTime": {
     "end_time": "2025-04-21T20:53:15.690478Z",
     "start_time": "2025-04-21T20:53:15.588526Z"
    }
   },
   "cell_type": "code",
   "source": [
    "# Define Laplacian calculation\n",
    "def compute_laplacian(u_frame, dx):\n",
    "    lap = np.zeros_like(u_frame)\n",
    "    lap[1:-1, 1:-1] = (\n",
    "        u_frame[2:, 1:-1] + u_frame[:-2, 1:-1] +\n",
    "        u_frame[1:-1, 2:] + u_frame[1:-1, :-2] -\n",
    "        4 * u_frame[1:-1, 1:-1]\n",
    "    ) / dx**2\n",
    "    return lap\n",
    "\n",
    "# Downsample space (central 10x10 region) and time (50 steps)\n",
    "T_subset = 50\n",
    "u_subset = u[:T_subset, 20:30, 20:30]  # central 10x10 block\n",
    "laplacians = np.zeros_like(u_subset)\n",
    "\n",
    "# Compute laplacians for each time step\n",
    "for t in range(T_subset):\n",
    "    laplacians[t] = compute_laplacian(u_subset[t], dx)\n",
    "\n",
    "# Trim time series to compute finite difference (u_t)\n",
    "X = np.stack([\n",
    "    u_subset[:-1].reshape(T_subset-1, -1),               # u\n",
    "    laplacians[:-1].reshape(T_subset-1, -1)              # laplacian(u)\n",
    "], axis=-1)  # shape: (T_subset-1, n_points, 2)\n",
    "\n",
    "X = X.reshape(-1, 2)  # collapse across time and space\n",
    "X_dot = (u_subset[1:] - u_subset[:-1]).reshape(-1, 1) / dt  # u_t"
   ],
   "id": "1af031db046349a9",
   "outputs": [],
   "execution_count": 68
  },
  {
   "metadata": {
    "ExecuteTime": {
     "end_time": "2025-04-21T20:53:15.723336Z",
     "start_time": "2025-04-21T20:53:15.701739Z"
    }
   },
   "cell_type": "code",
   "source": [
    "# Configure and fit SINDy\n",
    "optimizer = STLSQ(threshold=0.001, fit_intercept=False)\n",
    "model = SINDy(\n",
    "    optimizer=optimizer,\n",
    "    feature_library=PolynomialLibrary(degree=1, include_interaction=False),\n",
    "    feature_names=['u', 'laplacian']\n",
    ")\n",
    "model.fit(X, x_dot=X_dot)\n",
    "model.print()"
   ],
   "id": "46727184336fbd78",
   "outputs": [
    {
     "name": "stdout",
     "output_type": "stream",
     "text": [
      "(u)' = 0.021 1 + -0.088 u + 0.778 laplacian\n"
     ]
    }
   ],
   "execution_count": 69
  }
 ],
 "metadata": {
  "kernelspec": {
   "display_name": "Python 3",
   "language": "python",
   "name": "python3"
  },
  "language_info": {
   "codemirror_mode": {
    "name": "ipython",
    "version": 2
   },
   "file_extension": ".py",
   "mimetype": "text/x-python",
   "name": "python",
   "nbconvert_exporter": "python",
   "pygments_lexer": "ipython2",
   "version": "2.7.6"
  }
 },
 "nbformat": 4,
 "nbformat_minor": 5
}
