{
 "cells": [
  {
   "metadata": {
    "ExecuteTime": {
     "end_time": "2025-04-13T20:43:37.113774Z",
     "start_time": "2025-04-13T20:43:36.812295Z"
    }
   },
   "cell_type": "code",
   "source": [
    "import os\n",
    "import numpy as np\n",
    "from PIL import Image\n",
    "import matplotlib.pyplot as plt"
   ],
   "id": "97a781abc5a5259c",
   "outputs": [],
   "execution_count": 1
  },
  {
   "metadata": {
    "ExecuteTime": {
     "end_time": "2025-04-13T20:43:50.861534Z",
     "start_time": "2025-04-13T20:43:50.857330Z"
    }
   },
   "cell_type": "code",
   "source": [
    "def load_image_sequence(folder_path, filenames, size=(64, 64), grayscale=True):\n",
    "    data = []\n",
    "    for fname in sorted(filenames):\n",
    "        path = os.path.join(folder_path, fname)\n",
    "        img = Image.open(path)\n",
    "        if grayscale:\n",
    "            img = img.convert('L')  # convert to grayscale\n",
    "        img = img.resize(size)\n",
    "        img_arr = np.array(img) / 255.0  # normalize to [0, 1]\n",
    "        data.append(img_arr)\n",
    "    return np.stack(data)  # shape: (time, height, width)"
   ],
   "id": "64dff7bb20e904e8",
   "outputs": [],
   "execution_count": 2
  },
  {
   "metadata": {
    "ExecuteTime": {
     "end_time": "2025-04-13T20:43:55.220815Z",
     "start_time": "2025-04-13T20:43:53.263873Z"
    }
   },
   "cell_type": "code",
   "source": [
    "# Red dye images\n",
    "red_folder = \"red-dye\"\n",
    "red_filenames = [f\"dye{i}.png\" for i in range(1, 19)]  # dye1.png to dye18.png\n",
    "red_data = load_image_sequence(red_folder, red_filenames)\n",
    "\n",
    "# Green dye images\n",
    "green_folder = \"green-dye\"\n",
    "green_filenames = [f\"IMG_{i}.JPG\" for i in range(6211, 6250)]  # IMG_6211.JPG to IMG_6249.JPG\n",
    "green_data = load_image_sequence(green_folder, green_filenames)"
   ],
   "id": "6a092af2155c259d",
   "outputs": [],
   "execution_count": 3
  },
  {
   "metadata": {
    "ExecuteTime": {
     "end_time": "2025-04-13T20:44:50.131109Z",
     "start_time": "2025-04-13T20:44:50.126957Z"
    }
   },
   "cell_type": "code",
   "source": [
    "print(red_data.shape)\n",
    "print(green_data.shape)"
   ],
   "id": "2d717793bfe2b616",
   "outputs": [
    {
     "name": "stdout",
     "output_type": "stream",
     "text": [
      "(18, 64, 64)\n",
      "(39, 64, 64)\n"
     ]
    }
   ],
   "execution_count": 8
  },
  {
   "metadata": {},
   "cell_type": "code",
   "outputs": [],
   "execution_count": null,
   "source": "",
   "id": "45d0c48467af9065"
  }
 ],
 "metadata": {
  "kernelspec": {
   "name": "python3",
   "language": "python",
   "display_name": "Python 3 (ipykernel)"
  }
 },
 "nbformat": 5,
 "nbformat_minor": 9
}
